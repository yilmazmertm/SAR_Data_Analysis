{
 "cells": [
  {
   "cell_type": "code",
   "execution_count": 1,
   "metadata": {},
   "outputs": [],
   "source": [
    "import torch\n",
    "import torchvision\n",
    "import torchvision.datasets as datasets\n",
    "from torch.utils.data import Dataset, DataLoader,random_split # önemli kütüphanelerin import edilmesi\n",
    "import torchvision.transforms as transforms\n",
    "import torch.nn as nn\n",
    "import numpy as np\n",
    "from torchvision import models\n",
    "%matplotlib inline\n",
    "\n",
    "device = torch.device('cuda:0' if torch.cuda.is_available() else 'cpu') # GPU kontrolü\n",
    "\n",
    "transform = transforms.Compose(\n",
    "    [transforms.RandomHorizontalFlip(),\n",
    "    transforms.ToTensor(),\n",
    "    transforms.Normalize(mean=[0.485, 0.456, 0.406],\n",
    "                             std=[0.229, 0.224, 0.225])]) # Resimin ImageNet Standartlarında normalize edilmesi"
   ]
  },
  {
   "cell_type": "code",
   "execution_count": 2,
   "metadata": {},
   "outputs": [
    {
     "name": "stdout",
     "output_type": "stream",
     "text": [
      "Dataset has 1628 data points.\n",
      "Train Dataset has 1139 data points\n",
      "Test Dataset has 489 data points.\n"
     ]
    }
   ],
   "source": [
    "data = datasets.ImageFolder('./sar_data/', transform = transform) # dataset oluşturulması\n",
    "\n",
    "np.random.seed(42)\n",
    "\n",
    "train_size = int(0.70 * len(data)) # istenilen oranda datasetin train/test şeklinde bölünmesi\n",
    "test_size = len(data) - train_size\n",
    "train_dataset, test_dataset = random_split(data, [train_size, test_size])\n",
    "print(f\"Dataset has {len(data)} data points.\")\n",
    "print(f\"Train Dataset has {len(train_dataset)} data points\")\n",
    "print(f\"Test Dataset has {len(test_dataset)} data points.\") "
   ]
  },
  {
   "cell_type": "code",
   "execution_count": 3,
   "metadata": {},
   "outputs": [],
   "source": [
    "###HYPERPARAMETERS###\n",
    "batch_size = 16\n",
    "num_epochs = 10\n",
    "learning_rate = 0.0003\n",
    "###HYPERPARAMETERS###"
   ]
  },
  {
   "cell_type": "code",
   "execution_count": 4,
   "metadata": {},
   "outputs": [
    {
     "name": "stdout",
     "output_type": "stream",
     "text": [
      "Alongside number of samples in train set : 154\n",
      "Alongside number of samples in test set : 62\n",
      "Building number of samples in train set : 278\n",
      "Building number of samples in test set : 114\n",
      "Road number of samples in train set : 265\n",
      "Road number of samples in test set : 127\n",
      "Vegetation number of samples in train set : 214\n",
      "Vegetation number of samples in test set : 98\n",
      "Water number of samples in train set : 228\n",
      "Water number of samples in test set : 88\n"
     ]
    }
   ],
   "source": [
    "test_dataset[325]\n",
    "alongside_cout = building_cout = road_cout = vegetation_cout = water_cout = 0\n",
    "train_alongside_cout = train_building_cout = train_road_cout = train_vegetation_cout = train_water_cout = 0\n",
    "for x in range(len(test_dataset)):\n",
    "    a, b = test_dataset[x]\n",
    "    if b == 0:\n",
    "        alongside_cout +=1\n",
    "    if b == 1:\n",
    "        building_cout+=1\n",
    "    if b == 2:\n",
    "        road_cout+=1\n",
    "    if b == 3:\n",
    "        vegetation_cout+=1\n",
    "    if b == 4:\n",
    "        water_cout+=1\n",
    "\n",
    "for x in range(len(train_dataset)):\n",
    "    a, b = train_dataset[x]\n",
    "    if b == 0:\n",
    "        train_alongside_cout +=1\n",
    "    if b == 1:\n",
    "        train_building_cout+=1\n",
    "    if b == 2:\n",
    "        train_road_cout+=1\n",
    "    if b == 3:\n",
    "        train_vegetation_cout+=1\n",
    "    if b == 4:\n",
    "        train_water_cout+=1\n",
    "\n",
    "print(f\"Alongside number of samples in train set : {train_alongside_cout}\") # hangi kategoride kaç veri var\n",
    "print(f\"Alongside number of samples in test set : {alongside_cout}\")\n",
    "print(f\"Building number of samples in train set : {train_building_cout}\")\n",
    "print(f\"Building number of samples in test set : {building_cout}\")\n",
    "print(f\"Road number of samples in train set : {train_road_cout}\")\n",
    "print(f\"Road number of samples in test set : {road_cout}\")\n",
    "print(f\"Vegetation number of samples in train set : {train_vegetation_cout}\")\n",
    "print(f\"Vegetation number of samples in test set : {vegetation_cout}\")\n",
    "print(f\"Water number of samples in train set : {train_water_cout}\")\n",
    "print(f\"Water number of samples in test set : {water_cout}\")\n",
    "\n",
    "train_loader = DataLoader(train_dataset, batch_size= batch_size, shuffle= True)\n",
    "\n",
    "test_loader = DataLoader(test_dataset, batch_size= batch_size, shuffle= False)"
   ]
  },
  {
   "cell_type": "code",
   "execution_count": 5,
   "metadata": {},
   "outputs": [],
   "source": [
    "# DEFİNE THE MODEL\n",
    "model = models.resnet18(pretrained= True)\n",
    "\n",
    "for param in model.parameters():\n",
    "    param.require_grad = False\n",
    "    \n",
    "fc = nn.Sequential(\n",
    "    nn.Linear(1000,460),\n",
    "    nn.ReLU(),\n",
    "    nn.Dropout(0.4),\n",
    "    nn.Linear(460, 10)\n",
    ")\n",
    "\n",
    "model.classifier = fc\n",
    "\n",
    "model.to(device)\n",
    "\n",
    "#Define the loss function and optimizer\n",
    "criterion = nn.CrossEntropyLoss()\n",
    "optimizer = torch.optim.Adam(model.parameters(), lr=learning_rate)"
   ]
  },
  {
   "cell_type": "code",
   "execution_count": 6,
   "metadata": {},
   "outputs": [
    {
     "name": "stdout",
     "output_type": "stream",
     "text": [
      "Epoch [1/10], Step [71/72], Loss: 0.0035: Batch Loss : 1.0445746183395386\n",
      "Epoch [2/10], Step [71/72], Loss: 0.0974: Batch Loss : 0.16856725367022232\n",
      "Epoch [3/10], Step [71/72], Loss: 0.0024: Batch Loss : 0.14263373151631423\n",
      "Epoch [4/10], Step [71/72], Loss: 0.0024: Batch Loss : 0.08629325703835823\n",
      "Epoch [5/10], Step [71/72], Loss: 0.0745: Batch Loss : 0.1529322971760387\n",
      "Epoch [6/10], Step [71/72], Loss: 0.1388: Batch Loss : 0.16730502457685872\n",
      "Epoch [7/10], Step [71/72], Loss: 0.0399: Batch Loss : 0.09543123841285706\n",
      "Epoch [8/10], Step [71/72], Loss: 0.0597: Batch Loss : 0.03443659443250844\n",
      "Epoch [9/10], Step [71/72], Loss: 0.0043: Batch Loss : 0.03522651716017387\n",
      "Epoch [10/10], Step [71/72], Loss: 0.2059: Batch Loss : 0.02381900498564814\n",
      "Test Accuracy of the model on the 10000 test images: 98.77300613496932 %\n"
     ]
    }
   ],
   "source": [
    "import time\n",
    "print_every = len(train_loader) - 1\n",
    "loss_values = []\n",
    "start_time = time.time()\n",
    "total_step = len(train_loader)\n",
    "epoch_times = []\n",
    "\n",
    "\n",
    "for epoch in range(num_epochs):\n",
    "    running_loss = 0.0\n",
    "    for i, (images, labels) in enumerate(train_loader): ###TRAİNİNG_LOOP\n",
    "        epoch_start_time = time.time()\n",
    "        images = images.to(device)\n",
    "        labels = labels.to(device)\n",
    "        \n",
    "        outputs = model(images)\n",
    "        loss = criterion(outputs, labels)\n",
    "        \n",
    "        optimizer.zero_grad()\n",
    "        loss.backward()\n",
    "        optimizer.step()\n",
    "        running_loss += loss.item() \n",
    "        if (i+1) % print_every == 0:\n",
    "            epoch_times.append(time.time() - epoch_start_time)\n",
    "            loss_values.append(running_loss / print_every)\n",
    "            print ('Epoch [{}/{}], Step [{}/{}], Loss: {:.4f}: Batch Loss : {}' \n",
    "                   .format(epoch+1, num_epochs, i+1, total_step, loss.item(), running_loss / print_every))\n",
    "            running_loss = 0\n",
    "end_of_training = time.time() - start_time\n",
    "\n",
    "\n",
    "arr_pred = np.empty((0,len(test_dataset)), int)\n",
    "\n",
    "arr_label = np.empty((0,len(test_dataset)), int)\n",
    "\n",
    "with torch.no_grad(): \n",
    "    correct = 0\n",
    "    total = 0\n",
    "    for images, labels in test_loader:  #PREDİCTİON LOOP\n",
    "        images = images.to(device)\n",
    "        labels = labels.to(device)\n",
    "        outputs = model(images)\n",
    "        _, predicted = torch.max(outputs.data, 1)\n",
    "        \n",
    "        total += labels.size(0)\n",
    "        correct += (predicted == labels).sum().item()\n",
    "        pred = predicted.cpu().numpy()\n",
    "        lb = labels.cpu().numpy()\n",
    "        arr_pred = np.append(arr_pred, pred)\n",
    "        arr_label = np.append(arr_label, lb)\n",
    "        \n",
    "    print('Test Accuracy of the model on the 10000 test images: {} %'.format(100 * correct / total))"
   ]
  },
  {
   "cell_type": "code",
   "execution_count": 7,
   "metadata": {},
   "outputs": [
    {
     "name": "stdout",
     "output_type": "stream",
     "text": [
      "Total Training Time : 106.04916572570801 sn\n"
     ]
    }
   ],
   "source": [
    "x_axis = np.arange(1,num_epochs + 1)\n",
    "\n",
    "def find_interval_for_graph(end_of_training, num_epochs):\n",
    "    interval = end_of_training / num_epochs\n",
    "    return interval\n",
    "interval = find_interval_for_graph(end_of_training, num_epochs)\n",
    "x_interval_axis = np.arange(0, end_of_training, interval)\n",
    "\n",
    "print(f\"Total Training Time : {end_of_training} sn\")"
   ]
  },
  {
   "cell_type": "code",
   "execution_count": 8,
   "metadata": {},
   "outputs": [
    {
     "data": {
      "text/plain": [
       "[<matplotlib.lines.Line2D at 0x7f0719ab42b0>]"
      ]
     },
     "execution_count": 8,
     "metadata": {},
     "output_type": "execute_result"
    },
    {
     "data": {
      "image/png": "[encoded data removed]",
      "text/plain": [
       "<Figure size 432x288 with 1 Axes>"
      ]
     },
     "metadata": {
      "needs_background": "light"
     },
     "output_type": "display_data"
    }
   ],
   "source": [
    "import matplotlib.pyplot as plt \n",
    "\n",
    "plt.title(\"Loss\")\n",
    "plt.ylabel(\"Value of Loss\")\n",
    "plt.xlabel(\"Number of Epochs\")\n",
    "plt.plot(x_axis, loss_values)"
   ]
  },
  {
   "cell_type": "code",
   "execution_count": 9,
   "metadata": {},
   "outputs": [
    {
     "name": "stdout",
     "output_type": "stream",
     "text": [
      "[<matplotlib.lines.Line2D object at 0x7f071915c2e8>]\n"
     ]
    },
    {
     "data": {
      "image/png": "[encoded data removed]",
      "text/plain": [
       "<Figure size 432x288 with 1 Axes>"
      ]
     },
     "metadata": {
      "needs_background": "light"
     },
     "output_type": "display_data"
    }
   ],
   "source": [
    "plt.title(\"Time by Epoch , Total Training Time : {}\".format(end_of_training))\n",
    "plt.ylabel(\"Training Time\")\n",
    "plt.xlabel(\"Epoch Number\")\n",
    "print(plt.plot(x_axis,epoch_times))"
   ]
  },
  {
   "cell_type": "code",
   "execution_count": 10,
   "metadata": {},
   "outputs": [
    {
     "data": {
      "text/plain": [
       "[<matplotlib.lines.Line2D at 0x7f071915c748>]"
      ]
     },
     "execution_count": 10,
     "metadata": {},
     "output_type": "execute_result"
    },
    {
     "data": {
      "image/png": "[encoded data removed]",
      "text/plain": [
       "<Figure size 432x288 with 1 Axes>"
      ]
     },
     "metadata": {
      "needs_background": "light"
     },
     "output_type": "display_data"
    }
   ],
   "source": [
    "plt.title(\"Change in Loss by Time\")\n",
    "plt.ylabel(\"Loss Values\")\n",
    "plt.xlabel(\"Total Training Time\")\n",
    "plt.plot(x_interval_axis, loss_values)"
   ]
  },
  {
   "cell_type": "code",
   "execution_count": 11,
   "metadata": {},
   "outputs": [
    {
     "data": {
      "image/png": "[encoded data removed]",
      "text/plain": [
       "<Figure size 576x432 with 2 Axes>"
      ]
     },
     "metadata": {
      "needs_background": "light"
     },
     "output_type": "display_data"
    },
    {
     "name": "stdout",
     "output_type": "stream",
     "text": [
      "The Accuracy : 98.77300613496932\n",
      "The Precision : 98.9220338983051\n",
      "The Recall : 99.05511811023622\n",
      "The F1 Score : 98.96928124403097\n"
     ]
    }
   ],
   "source": [
    "from sklearn import metrics\n",
    "from cm_helper import plot_confusion_matrix\n",
    "cm = metrics.confusion_matrix(arr_label, arr_pred)\n",
    "plot_confusion_matrix(cm, target_names= [\"alongside\", \"building\", \"road\" ,\"vegetation\", \"water\"], title='Confusion matrix' , normalize= False)\n",
    "\n",
    "\n",
    "print(f\"The Accuracy : { 100 * metrics.accuracy_score(arr_label, arr_pred)}\")\n",
    "print(f\"The Precision : {100 * metrics.precision_score(arr_label, arr_pred, average= 'macro')}\")\n",
    "print(f\"The Recall : {100 * metrics.recall_score(arr_label, arr_pred, average= 'macro')}\")\n",
    "print(f\"The F1 Score : {100 *metrics.f1_score(arr_label, arr_pred, average = 'macro')}\")"
   ]
  },
  {
   "cell_type": "code",
   "execution_count": null,
   "metadata": {},
   "outputs": [],
   "source": []
  }
 ],
 "metadata": {
  "kernelspec": {
   "display_name": "Python 3",
   "language": "python",
   "name": "python3"
  },
  "language_info": {
   "codemirror_mode": {
    "name": "ipython",
    "version": 3
   },
   "file_extension": ".py",
   "mimetype": "text/x-python",
   "name": "python",
   "nbconvert_exporter": "python",
   "pygments_lexer": "ipython3",
   "version": "3.6.9"
  }
 },
 "nbformat": 4,
 "nbformat_minor": 4
}
